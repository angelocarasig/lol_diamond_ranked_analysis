{
 "cells": [
  {
   "cell_type": "markdown",
   "id": "fa725f05",
   "metadata": {},
   "source": [
    "# League of Legends Diamond Ranked Game Analysis"
   ]
  },
  {
   "cell_type": "markdown",
   "id": "b67f6bb8",
   "metadata": {},
   "source": [
    "***\n",
    "### Student Names:\n",
    "#### - Anton Angelo Carasig (s306344)\n",
    "#### - Khang Nguyen (s3894597)\n",
    "#### - Oliver Guzowski (s3897734)"
   ]
  },
  {
   "cell_type": "markdown",
   "id": "5b2724b7",
   "metadata": {},
   "source": [
    "***\n",
    "## Table of Contents:\n",
    "* [Introduction](#itr)\n",
    "***"
   ]
  },
  {
   "cell_type": "markdown",
   "id": "f0128e30",
   "metadata": {},
   "source": [
    "## Introduction: <a id='itr'></a>"
   ]
  },
  {
   "cell_type": "markdown",
   "id": "92d691b0",
   "metadata": {},
   "source": [
    "***\n",
    "### - Dataset Source"
   ]
  },
  {
   "cell_type": "markdown",
   "id": "2dd4caa9",
   "metadata": {},
   "source": [
    "This dataset was obtained from Kaggle (\"michel's fanboy\", 2021)."
   ]
  },
  {
   "cell_type": "markdown",
   "id": "3dc652e9",
   "metadata": {},
   "source": [
    "***\n",
    "### - Dataset Details"
   ]
  },
  {
   "cell_type": "markdown",
   "id": "cbd5461b",
   "metadata": {},
   "source": [
    "The dataset holds information regarding the first 10 minutes of League of Legends \"Diamond\" ranked-games, a multiplayer online battle arena where 2 teams fight against each other.\n",
    "\n",
    "Each entry within the dataframe is a unique \"game\", that is, a different team vs another different team."
   ]
  },
  {
   "cell_type": "markdown",
   "id": "62a14ca1",
   "metadata": {},
   "source": [
    "***\n",
    "### - Context and Glossary"
   ]
  },
  {
   "cell_type": "markdown",
   "id": "89334ed4",
   "metadata": {},
   "source": [
    "* League of Legends (LoL)\n",
    "* Multiplayer Online Battle Arena (MOBA)\n",
    "* ELO: A rating system that determines the quality of a player in a team. Diamond players are in the top 0.5% of the LoL playerbase.\n",
    "***\n",
    "Objectives:\n",
    "+ Team-Specific Objectives:\n",
    "++ Nexus: The main objective of the game, destroying the enemy nexus declares your team as the winner.\n",
    "++ Towers/Turrets: Structures that must be destroyed to reach the enemy nexus.\n",
    "++ Elite Monsters: monsters that provide high gold/xp to the player that defeats it.\n",
    "\n",
    "+ Neutral Objectives:\n",
    "++ Dragon: A monster that gives bonuses to the team that defeats it.\n",
    "++ Herald: A monster that assists in knocking down the enemy turrets.\n",
    "***\n",
    "\n",
    "* Wards: Are team specific, purchaseable items. They provide \"vision\" to the team, allowing to see where enemies are currently are; vital for making co-ordinated plays in higher ELO games.\n",
    "* Champion: The character that the player is controlling.\n",
    "* Level: The level of the champion that the player is controlling. Gaining XP increases champion level. Starts at level 1 when the game starts, the maximum level is 18.\n",
    "* First Blood: The first player that kills another player in the game gets extra gold, putting them at an advantage of others."
   ]
  },
  {
   "cell_type": "code",
   "execution_count": 5,
   "id": "3c95fff5",
   "metadata": {},
   "outputs": [],
   "source": [
    "import numpy as np\n",
    "import pandas as pd\n",
    "pd.set_option('display.max_columns', None) \n",
    "\n",
    "import warnings\n",
    "warnings.filterwarnings(\"ignore\")\n",
    "\n",
    "df = df.style.set_precision(3)\n",
    "df = pd.read_csv(\"ranked_games.csv\")"
   ]
  },
  {
   "cell_type": "markdown",
   "id": "2e69099e",
   "metadata": {},
   "source": [
    "### Dataset Columns:"
   ]
  },
  {
   "cell_type": "code",
   "execution_count": 14,
   "id": "94e2c970",
   "metadata": {},
   "outputs": [
    {
     "name": "stdout",
     "output_type": "stream",
     "text": [
      "Dataframe Entries: 9879\n",
      "Dataframe Columns: 40\n",
      "gameId | blueWins | blueWardsPlaced | blueWardsDestroyed | blueFirstBlood | blueKills | blueDeaths | blueAssists | blueEliteMonsters | blueDragons | blueHeralds | blueTowersDestroyed | blueTotalGold | blueAvgLevel | blueTotalExperience | blueTotalMinionsKilled | blueTotalJungleMinionsKilled | blueGoldDiff | blueExperienceDiff | blueCSPerMin | blueGoldPerMin | redWardsPlaced | redWardsDestroyed | redFirstBlood | redKills | redDeaths | redAssists | redEliteMonsters | redDragons | redHeralds | redTowersDestroyed | redTotalGold | redAvgLevel | redTotalExperience | redTotalMinionsKilled | redTotalJungleMinionsKilled | redGoldDiff | redExperienceDiff | redCSPerMin | redGoldPerMin | "
     ]
    }
   ],
   "source": [
    "print(\"Dataframe Entries:\", df.shape[0])\n",
    "print(\"Dataframe Columns:\", df.shape[1])\n",
    "\n",
    "# df.columns\n",
    "for i in df.columns:\n",
    "    print(i, end = ' | ')"
   ]
  },
  {
   "cell_type": "code",
   "execution_count": null,
   "id": "4a0771e0",
   "metadata": {},
   "outputs": [],
   "source": []
  }
 ],
 "metadata": {
  "kernelspec": {
   "display_name": "Python 3",
   "language": "python",
   "name": "python3"
  },
  "language_info": {
   "codemirror_mode": {
    "name": "ipython",
    "version": 3
   },
   "file_extension": ".py",
   "mimetype": "text/x-python",
   "name": "python",
   "nbconvert_exporter": "python",
   "pygments_lexer": "ipython3",
   "version": "3.8.8"
  }
 },
 "nbformat": 4,
 "nbformat_minor": 5
}
